{
 "cells": [
  {
   "cell_type": "markdown",
   "metadata": {},
   "source": [
    "# **Insper - Eletromagnetismo e Ondulatória** #\n",
    "\n",
    "\n",
    "**Aula 10 - Modelo elétrico do transformador**\n",
    "\n",
    "**Item 5** - Calculando correntes e tensões em um transformador AC\n",
    "\n"
   ]
  },
  {
   "cell_type": "code",
   "execution_count": 1,
   "metadata": {},
   "outputs": [],
   "source": [
    "#Vamos importar os módulos que precisamos\n",
    "from cmath import *\n",
    "from numpy import linalg\n",
    "import numpy as np"
   ]
  },
  {
   "cell_type": "markdown",
   "metadata": {},
   "source": [
    "---\n",
    "Na célula a seguir:\n",
    "\n",
    "a) Declare os parâmetros de nosso transformador: $R_1=6\\Omega$, $R_2=3\\Omega$, $L_1=300mH$, $L_2=30mH$, frequência $f=60 Hz$ e tensão $V_1=50cos(\\omega t)$.\n",
    "\n",
    "b) Calcule:\n",
    "\n",
    "- Frequência angular $\\omega$\n",
    "- Indutância Mútua $M$\n",
    "- Reatâncias indutivas de $L_1$ e $L_2$, ou seja $XL1$ e $XL2$\n",
    "- Reatância indutiva mútua $XM$\n",
    "\n",
    "Obsrvação: o número complexo $j=\\sqrt{-1}$ é nativo da linguagem Python. Para escrever $j$, digite \"1j\""
   ]
  },
  {
   "cell_type": "code",
   "execution_count": 5,
   "metadata": {},
   "outputs": [],
   "source": [
    "# Use essa célula para implementar os itens a) a b)\n",
    "R1 = 6\n",
    "R2 = 3\n",
    "\n",
    "L1 = 300 *10e-3\n",
    "L2 = 30 *10e-3\n",
    "f = 60\n",
    "w = 2*pi*f\n",
    "Ufonte = 50\n",
    "\n",
    "M = sqrt(L1*L2)\n",
    "XL1, XL2, XM = 1j*w*L1, 1j*w*L2, 1j*w*M"
   ]
  },
  {
   "cell_type": "markdown",
   "metadata": {},
   "source": [
    "c) Observe a função que criamos na célula abaixo. Tente explicar o que ela faz."
   ]
  },
  {
   "cell_type": "code",
   "execution_count": 6,
   "metadata": {},
   "outputs": [],
   "source": [
    "def CalcularTransformador(Uf, Rc):\n",
    "    Z=np.array([[R1+XL1, -XM],[-XM, XL2+R2+Rc]])\n",
    "    V=np.array([Uf,0])\n",
    "    i=np.dot(linalg.inv(Z),V)\n",
    "    return i[0], i[1]"
   ]
  },
  {
   "cell_type": "markdown",
   "metadata": {},
   "source": [
    "d) Calcule as correntes $i_1$ e $i_2$ para três condições de carga ($R_C=1M\\Omega$, $R_C=100\\Omega$ e $R_C=1\\Omega$). Assim que calcular as correntes, calcule também $V_2$ para cada resistor de carga (analise o circuito para saber como calculá-la). Por fim, calcule as relações $N_1/N_2$, $e_1/e_2$ e $V_1/V_2$ e, o mais importante: calcule as potências no primário ($S1$) e no secundário ($S2$).\n",
    "\n",
    "IMPORTANTE: para dar print nas relações $N_1/N_2$, $V_1/V_2$ e $e_1/e_2$, você precisará usar o **módulo dos fasores**. Para calcular o módulo de um número complexo, use \"np.abs(número complexo)\"."
   ]
  },
  {
   "cell_type": "code",
   "execution_count": 11,
   "metadata": {},
   "outputs": [
    {
     "name": "stdout",
     "output_type": "stream",
     "text": [
      "Com o resistor na carga de 1000000.0 ohms:\n",
      "i1 (pico): 0.044209058049595525 A\n",
      "i2 (pico): 1.581110888184443e-05 A\n",
      "V1 (pico): 50 V\n",
      "V2 (pico): 15.811108881844428 V\n",
      "Relação N1/N2: 3.1622776601683795\n",
      "Relação e1/e2: 3.1622776601683795\n",
      "Relação V1/V2: 3.16233354495547\n",
      "S1 = 0.0059883183979210376 + 1.105210228220442j VA\n",
      "S2 = 0.0001249955820367699 + 0.0j VA\n",
      "Eficiência: 0.00011309665694827305\n",
      "\n",
      "\n",
      "Com o resistor na carga de 100 ohms:\n",
      "i1 (pico): 0.06527694651469498 A\n",
      "i2 (pico): 0.15261745532108567 A\n",
      "V1 (pico): 50 V\n",
      "V2 (pico): 15.261745532108566 V\n",
      "Relação N1/N2: 3.1622776601683795\n",
      "Relação e1/e2: 3.162277660168379\n",
      "Relação V1/V2: 3.2761652259767424\n",
      "S1 = 1.2123257541760513 + 1.092447301789855j VA\n",
      "S2 = 1.1646043834341788 + 0.0j VA\n",
      "Eficiência: 1.0660508580378223\n",
      "\n",
      "\n",
      "Com o resistor na carga de 1 ohms:\n",
      "i1 (pico): 1.0876245616424591 A\n",
      "i2 (pico): 3.4372217518608763 A\n",
      "V1 (pico): 50 V\n",
      "V2 (pico): 3.4372217518608763 V\n",
      "Relação N1/N2: 3.1622776601683795\n",
      "Relação e1/e2: 3.1622776601683795\n",
      "Relação V1/V2: 14.546632021320857\n",
      "S1 = 27.177768304194945 + 0.8357044534199336j VA\n",
      "S2 = 5.907246685732775 + 0.0j VA\n",
      "Eficiência: 7.068583470578252\n",
      "\n",
      "\n"
     ]
    }
   ],
   "source": [
    "# Use essa célula para implementar o item d)\n",
    "\n",
    "Rcs = [1e6, 100, 1]\n",
    "\n",
    "for Rc in Rcs:\n",
    "    i1, i2 = CalcularTransformador(Ufonte, Rc)    \n",
    "    V2 = i2*Rc\n",
    "    V1 = Ufonte\n",
    "\n",
    "    e1 = XL1*i1 + XM*i2\n",
    "    e2 = XM*i1 + XL2*i2\n",
    "    \n",
    "    S1 = V1/sqrt(2)*i1.conjugate()/sqrt(2)\n",
    "    S2 = V2/sqrt(2)*i2.conjugate()/sqrt(2)\n",
    "    \n",
    "    print(f'Com o resistor na carga de {Rc} ohms:')\n",
    "    print(f'i1 (pico): {abs(i1)} A')\n",
    "    print(f'i2 (pico): {abs(i2)} A')\n",
    "    print(f'V1 (pico): {abs(V1)} V')\n",
    "    print(f'V2 (pico): {abs(V2)} V')\n",
    "    print(f'Relação N1/N2: {abs(sqrt(L1/L2))}')\n",
    "    print(f'Relação e1/e2: {abs(e1/e2)}')\n",
    "    print(f'Relação V1/V2: {abs(V1/V2)}')\n",
    "    print(f'S1 = {S1.real} + {S1.imag}j VA')\n",
    "    print(f'S2 = {S2.real} + {S2.imag}j VA')\n",
    "    print(f'Eficiência: {S2.real/S1.imag}')\n",
    "    print('\\n')"
   ]
  },
  {
   "cell_type": "markdown",
   "metadata": {},
   "source": [
    "e) Recalcule o item **d)**, mas agora considerando que o transformador é **ideal**. Para isso, basta zerar as resistências R1 e R2 do primário e do secundário. Após zer-a-las, copie o código do item d) na célula abaixo. O que você pode concluir sobre a potência real nas três condições de carga?"
   ]
  },
  {
   "cell_type": "code",
   "execution_count": 5,
   "metadata": {},
   "outputs": [],
   "source": [
    "# Use essa célula para implementar o item e)\n",
    "\n",
    "\n",
    "\n"
   ]
  }
 ],
 "metadata": {
  "kernelspec": {
   "display_name": "Python 3 (ipykernel)",
   "language": "python",
   "name": "python3"
  },
  "language_info": {
   "codemirror_mode": {
    "name": "ipython",
    "version": 3
   },
   "file_extension": ".py",
   "mimetype": "text/x-python",
   "name": "python",
   "nbconvert_exporter": "python",
   "pygments_lexer": "ipython3",
   "version": "3.12.5"
  }
 },
 "nbformat": 4,
 "nbformat_minor": 4
}
